{
 "cells": [
  {
   "cell_type": "markdown",
   "metadata": {},
   "source": [
    "## Splitting Data"
   ]
  },
  {
   "cell_type": "code",
   "execution_count": null,
   "metadata": {},
   "outputs": [],
   "source": [
    "from sklearn.model_selection import train_test_split\n",
    "\n",
    "X = yourData.drop(columns=['Label'], axis=1)\n",
    "y = yourData['Label']\n",
    "\n",
    "X_train, X_test, y_train, y_test = train_test_split(X, y, test_size=0.2, random_state=42, stratify=y) # You can seet test train size"
   ]
  },
  {
   "cell_type": "markdown",
   "metadata": {},
   "source": [
    "## Functional"
   ]
  },
  {
   "cell_type": "markdown",
   "metadata": {},
   "source": [
    "**Scoring Metrics**"
   ]
  },
  {
   "cell_type": "code",
   "execution_count": null,
   "metadata": {},
   "outputs": [],
   "source": [
    "from sklearn.metrics import accuracy_score, precision_score, recall_score, roc_auc_score\n",
    "\n",
    "def evaluasi(model, x_train, y_train, x_test, y_test) :\n",
    "    prediksi_train = model.predict(x_train)\n",
    "    prediksi_test = model.predict(x_test)\n",
    "    print('Akurasi data latih = {}'.format(accuracy_score(y_train, prediksi_train)))\n",
    "    print('Akurasi presisi data latih = {}'.format(precision_score(y_train, prediksi_train)))\n",
    "    print('Akurasi recall data latih = {}'.format(recall_score(y_train, prediksi_train)))\n",
    "    print(\"================================================\")\n",
    "    print('Akurasi data uji = {}'.format(accuracy_score(y_test, prediksi_test)))\n",
    "    print('Akurasi presisi data uji = {}'.format(precision_score(y_test, prediksi_test)))\n",
    "    print('Akurasi recall data uji = {}'.format(recall_score(y_test, prediksi_test)))\n",
    "    print(\"================================================\")\n",
    "    print('Akurasi ROC AUC data latih = {}'.format(roc_auc_score(y_train, prediksi_train)))\n",
    "    print('Akurasi ROC AUC data uji = {}'.format(roc_auc_score(y_test, prediksi_test)))"
   ]
  },
  {
   "cell_type": "markdown",
   "metadata": {},
   "source": [
    "**Best parameter if using hyperparameter**"
   ]
  },
  {
   "cell_type": "code",
   "execution_count": null,
   "metadata": {},
   "outputs": [],
   "source": [
    "def show_best_hyperparameter(model, hyperparameters):\n",
    "    for key, value in hyperparameters.items() :\n",
    "        print('Best '+key+':', model.get_params()[key])"
   ]
  },
  {
   "cell_type": "markdown",
   "metadata": {},
   "source": [
    "**Feature importance at classification model for evaluation**"
   ]
  },
  {
   "cell_type": "code",
   "execution_count": null,
   "metadata": {},
   "outputs": [],
   "source": [
    "import matplotlib.pyplot as plt\n",
    "\n",
    "def show_feature_importance(model):\n",
    "    feat_importances = pd.Series(model.feature_importances_, index=X.columns)\n",
    "    ax = feat_importances.nlargest(25).plot(kind='barh', figsize=(10, 8))\n",
    "    ax.invert_yaxis()\n",
    "\n",
    "    plt.xlabel('Score')\n",
    "    plt.ylabel('Feature')\n",
    "    plt.title('Feature Importance')"
   ]
  },
  {
   "cell_type": "markdown",
   "metadata": {},
   "source": [
    "## KNN"
   ]
  },
  {
   "cell_type": "markdown",
   "metadata": {},
   "source": [
    "If you dont want to use hyperparameter or want to compare both of them, you can delete it and modified it"
   ]
  },
  {
   "cell_type": "code",
   "execution_count": null,
   "metadata": {},
   "outputs": [],
   "source": [
    "from sklearn.neighbors import KNeighborsClassifier\n",
    "from sklearn.model_selection import RandomizedSearchCV # You can use GridSearch too\n",
    "\n",
    "# Membuat hyperparameter\n",
    "hyperparameters = dict(\n",
    "    n_neighbors = list(range(1, 1000)),\n",
    "    weights = ['uniform', 'distance'],\n",
    "    algorithm = ['auto', 'ball_tree', 'kd_tree', 'brute'],\n",
    "    p = [1, 2],\n",
    ")\n",
    "\n",
    "# Membuat model\n",
    "knn_model = RandomizedSearchCV(KNeighborsClassifier(), hyperparameters, random_state=42, cv=5, scoring='recall')\n",
    "\n",
    "# Latih data\n",
    "knn_model.fit(X_train, y_train)\n",
    "\n",
    "# Evaluasi model\n",
    "evaluasi(knn_model, X_train, y_train, X_test, y_test)\n",
    "print('\\n')\n",
    "show_best_hyperparameter(knn_model.best_estimator_, hyperparameters)"
   ]
  },
  {
   "cell_type": "markdown",
   "metadata": {},
   "source": [
    "## Decision Tree"
   ]
  },
  {
   "cell_type": "markdown",
   "metadata": {},
   "source": [
    "If you dont want to use hyperparameter or want to compare both of them, you can delete it and modified it"
   ]
  },
  {
   "cell_type": "code",
   "execution_count": null,
   "metadata": {},
   "outputs": [],
   "source": [
    "from sklearn.tree import DecisionTreeClassifier\n",
    "from sklearn.model_selection import RandomizedSearchCV # You can use grid search too\n",
    "\n",
    "# Membuat Hyperparameter\n",
    "hyperparameters = dict(\n",
    "    criterion = ['gini', 'entropy'],\n",
    "    splitter = ['best', 'random'],\n",
    "    max_depth = list(range(1, 2000)),\n",
    "    max_features = ['auto', 'sqrt', 'log2'],   \n",
    ")\n",
    "\n",
    "# Membuat model\n",
    "decision_model = RandomizedSearchCV(DecisionTreeClassifier(random_state=42), hyperparameters, random_state=42, cv=5, scoring='recall')\n",
    "\n",
    "# Latih data\n",
    "decision_model.fit(X_train, y_train)\n",
    "\n",
    "# Evaluasi model\n",
    "evaluasi(decision_model, X_train, y_train, X_test, y_test)\n",
    "print('\\n')\n",
    "show_best_hyperparameter(decision_model.best_estimator_, hyperparameters)"
   ]
  },
  {
   "cell_type": "markdown",
   "metadata": {},
   "source": [
    "## Random Forest"
   ]
  },
  {
   "cell_type": "markdown",
   "metadata": {},
   "source": [
    "If you dont want to use hyperparameter or want to compare both of them, you can delete it and modified it"
   ]
  },
  {
   "cell_type": "code",
   "execution_count": null,
   "metadata": {},
   "outputs": [],
   "source": [
    "import numpy as np\n",
    "from sklearn.ensemble import RandomForestClassifier\n",
    "from sklearn.model_selection import RandomizedSearchCV\n",
    "\n",
    "# Membuat Hyperparameter\n",
    "hyperparameters = dict(\n",
    "    n_estimators = [int(x) for x in np.linspace(1, 1000, num=20)],\n",
    "    criterion = ['gini', 'entropy'],\n",
    "    max_depth = [int(x) for x in np.linspace(1, 1000, num=20)],\n",
    "    min_samples_split = [int(x) for x in np.linspace(10, 500, num=20)],\n",
    "    min_samples_leaf = [int(x) for x in np.linspace(10, 500, num=20)],\n",
    "    max_features = ['auto', 'sqrt', 'log2'],\n",
    "    bootstrap = [True, False],\n",
    "    class_weight = ['balanced', 'balanced_subsample'],\n",
    ")\n",
    "\n",
    "# Membuat model\n",
    "randomForest_model = RandomizedSearchCV(RandomForestClassifier(random_state=42), hyperparameters, cv=5, random_state=42, scoring='recall')\n",
    "\n",
    "# Latih data\n",
    "randomForest_model.fit(X_train, y_train)\n",
    "\n",
    "# Evaluasi model\n",
    "evaluasi(randomForest_model, X_train, y_train, X_test, y_test)\n",
    "print('\\n')\n",
    "show_feature_importance(randomForest_model.best_estimator_)"
   ]
  },
  {
   "cell_type": "markdown",
   "metadata": {},
   "source": [
    "## AdaBoost"
   ]
  },
  {
   "cell_type": "code",
   "execution_count": null,
   "metadata": {},
   "outputs": [],
   "source": [
    "import numpy as np\n",
    "from sklearn.ensemble import AdaBoostClassifier\n",
    "from sklearn.model_selection import RandomizedSearchCV\n",
    "\n",
    "# Hyperparameter\n",
    "hyperparameters = dict(\n",
    "    n_estimators = [int(x) for x in np.linspace(1, 1000, num=20)],\n",
    "    learning_rate = [float(x) for x in np.linspace(0.001, 0.1, num=20)],  \n",
    "    algorithm = ['SAMME', 'SAMME.R']\n",
    ")\n",
    "\n",
    "# Membuat model\n",
    "adaboost_model = RandomizedSearchCV(AdaBoostClassifier(random_state=42), hyperparameters, cv=5, random_state=42, scoring='recall')\n",
    "\n",
    "# Latih data\n",
    "adaboost_model.fit(X_train, y_train)\n",
    "\n",
    "# Evaluasi model\n",
    "evaluasi(adaboost_model, X_train, y_train, X_test, y_test)\n",
    "print('\\n')\n",
    "show_best_hyperparameter(adaboost_model.best_estimator_, hyperparameters)\n",
    "print('\\n')\n",
    "show_feature_importance(adaboost_model.best_estimator_)"
   ]
  },
  {
   "cell_type": "markdown",
   "metadata": {},
   "source": [
    "## XGBoost"
   ]
  },
  {
   "cell_type": "markdown",
   "metadata": {},
   "source": [
    "If you dont want to use hyperparameter or want to compare both of them, you can delete it and modified it"
   ]
  },
  {
   "cell_type": "code",
   "execution_count": null,
   "metadata": {},
   "outputs": [],
   "source": [
    "from xgboost import XGBClassifier\n",
    "from sklearn.model_selection import RandomizedSearchCV\n",
    "import numpy as np\n",
    "\n",
    "# Hyperparameter\n",
    "hyperparameters = {\n",
    "    'max_depth' : [int(x) for x in np.linspace(1, 1000, num=10)],\n",
    "    'min_child_weight' : [int(x) for x in np.linspace(1, 50, num=10)],\n",
    "    'gamma' : [float(x) for x in np.linspace(0, 1, num=10)],\n",
    "    'tree_method' : ['auto', 'exact', 'approx', 'hist'],\n",
    "    'colsample_bytree' : [float(x) for x in np.linspace(0, 1, num=10)],\n",
    "    'eta' : [float(x) for x in np.linspace(0, 1, num=100)],\n",
    "    'lambda' : [float(x) for x in np.linspace(0, 1, num=10)],\n",
    "    'alpha' : [float(x) for x in np.linspace(0, 1, num=10)]\n",
    "}\n",
    "\n",
    "# Membuat model\n",
    "xgboost_model = RandomizedSearchCV(XGBClassifier(use_label_encoder=False, eval_metric='mlogloss'), hyperparameters, cv=5, random_state=42, scoring='recall')\n",
    "\n",
    "# Latih data\n",
    "xgboost_model.fit(X_train, y_train)\n",
    "\n",
    "# Evaluasi model\n",
    "evaluasi(xgboost_model, X_train, y_train, X_test, y_test)\n",
    "print('\\n')\n",
    "show_best_hyperparameter(xgboost_model.best_estimator_, hyperparameters)"
   ]
  },
  {
   "cell_type": "code",
   "execution_count": null,
   "metadata": {},
   "outputs": [],
   "source": []
  }
 ],
 "metadata": {
  "language_info": {
   "name": "python"
  },
  "orig_nbformat": 4
 },
 "nbformat": 4,
 "nbformat_minor": 2
}
