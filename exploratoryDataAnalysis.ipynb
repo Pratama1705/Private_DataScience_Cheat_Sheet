{
 "cells": [
  {
   "cell_type": "markdown",
   "metadata": {},
   "source": [
    "## Descriptive Analysis"
   ]
  },
  {
   "cell_type": "markdown",
   "metadata": {},
   "source": [
    "**Data Info, Describe, and Sample**"
   ]
  },
  {
   "cell_type": "code",
   "execution_count": null,
   "metadata": {},
   "outputs": [],
   "source": [
    "yourData.info()\n",
    "\n",
    "yourData.describe()\n",
    "\n",
    "yourData.sample(n)"
   ]
  },
  {
   "cell_type": "markdown",
   "metadata": {},
   "source": [
    "**Check Missing Values**"
   ]
  },
  {
   "cell_type": "code",
   "execution_count": null,
   "metadata": {},
   "outputs": [],
   "source": [
    "yourData.isna().sum()"
   ]
  },
  {
   "cell_type": "markdown",
   "metadata": {},
   "source": [
    "**Label Value Counts**"
   ]
  },
  {
   "cell_type": "code",
   "execution_count": null,
   "metadata": {},
   "outputs": [],
   "source": [
    "yourData['yourDataLabel'].value_counts()"
   ]
  },
  {
   "cell_type": "markdown",
   "metadata": {},
   "source": [
    "## Univariate Analysis"
   ]
  },
  {
   "cell_type": "markdown",
   "metadata": {},
   "source": [
    "**Split Categoric and Numeric Feature**"
   ]
  },
  {
   "cell_type": "code",
   "execution_count": null,
   "metadata": {},
   "outputs": [],
   "source": [
    "featureCategoric = []\n",
    "featureNumeric = []\n",
    "\n",
    "for i in yourData.columns :\n",
    "    if (yourData[i].dtypes == 'O') :\n",
    "        featureCategoric.append(i)\n",
    "    else :\n",
    "        featureNumeric.append(i)"
   ]
  },
  {
   "cell_type": "markdown",
   "metadata": {},
   "source": [
    "**Check Using Plot for Numeric Feature**"
   ]
  },
  {
   "cell_type": "code",
   "execution_count": null,
   "metadata": {},
   "outputs": [],
   "source": [
    "plt.figure(figsize=(20, 5)) # You can adjust size of your plot here\n",
    "\n",
    "for i in range(0, len(featureNumeric.columns)) :\n",
    "    plt.subplot(row, cols, i + 1) # You can adjust how many row and cols in your dataset\n",
    "    sns.kdeplot(x=yourData[featureNumeric.columns[i]], color='green') # You can set kind of plot here for numeric feature\n",
    "    plt.title(featureNumeric.columns[i])\n",
    "\n",
    "plt.tight_layout()\n",
    "plt.show()"
   ]
  },
  {
   "cell_type": "markdown",
   "metadata": {},
   "source": [
    "**Check Using Plot for Categoric Feature**"
   ]
  },
  {
   "cell_type": "code",
   "execution_count": null,
   "metadata": {},
   "outputs": [],
   "source": [
    "plt.figure(figsize=(20, 5)) # You can adjust size of your plot here\n",
    "\n",
    "for i in range(0, len(featureCategoric.columns)) :\n",
    "    plt.subplot(row, cols, i + 1) # You can adjust how many row and cols in your dataset\n",
    "    sns.countplot(x=yourData[featureCategoric.columns[i]]) # You can set kind of plot here for categoric feature\n",
    "    plt.title(featureCategoric.columns[i])\n",
    "\n",
    "plt.tight_layout()\n",
    "plt.show()"
   ]
  },
  {
   "cell_type": "markdown",
   "metadata": {},
   "source": [
    "## Multivariate Analysis"
   ]
  },
  {
   "cell_type": "markdown",
   "metadata": {},
   "source": [
    "**Heatmap For Linear Data**"
   ]
  },
  {
   "cell_type": "code",
   "execution_count": null,
   "metadata": {},
   "outputs": [],
   "source": [
    "plt.figure(figsize=(20, 5)) # You can adjust size of your plot here\n",
    "\n",
    "sns.heatmap(yourData.corr(), annot=True)\n",
    "\n",
    "plt.tight_layout()\n",
    "plt.show()"
   ]
  },
  {
   "cell_type": "markdown",
   "metadata": {},
   "source": [
    "**Non Linear Plot Correlation Based On Label**"
   ]
  },
  {
   "cell_type": "code",
   "execution_count": null,
   "metadata": {},
   "outputs": [],
   "source": [
    "plt.figure(figsize=(20, 10)) # You can adjust size of your plot here\n",
    "\n",
    "for i in range(0, len(featureNumeric.columns) - 1) :\n",
    "    plt.subplot(3, 5, i + 1)\n",
    "    sns.kdeplot(featureNumeric.loc[(featureNumeric['yourDataLabel'] == valueClass1), featureNumeric.columns[i + 1]], color='r', shade=True, Label='Not Churn')\n",
    "    sns.kdeplot(featureNumeric.loc[(featureNumeric['yourDataLabel'] == valueClass2), featureNumeric.columns[i + 1]], color='b', shade=True, Label='Churn')\n",
    "    plt.title(featureNumeric.columns[i + 1])\n",
    "    plt.legend()\n",
    "\n",
    "plt.tight_layout()\n",
    "plt.show()"
   ]
  }
 ],
 "metadata": {
  "kernelspec": {
   "display_name": "Python 3.9.6 64-bit",
   "language": "python",
   "name": "python3"
  },
  "language_info": {
   "codemirror_mode": {
    "name": "ipython",
    "version": 3
   },
   "file_extension": ".py",
   "mimetype": "text/x-python",
   "name": "python",
   "nbconvert_exporter": "python",
   "pygments_lexer": "ipython3",
   "version": "3.9.6"
  },
  "orig_nbformat": 4,
  "vscode": {
   "interpreter": {
    "hash": "1d5c1156327dacead463cc502c55ebae8ce9c8c01979cf154173ff808e75bf55"
   }
  }
 },
 "nbformat": 4,
 "nbformat_minor": 2
}
