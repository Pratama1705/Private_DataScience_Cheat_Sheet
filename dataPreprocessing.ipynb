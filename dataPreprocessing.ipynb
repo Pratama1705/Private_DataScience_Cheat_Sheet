{
 "cells": [
  {
   "cell_type": "markdown",
   "metadata": {},
   "source": [
    "## Drop Features"
   ]
  },
  {
   "cell_type": "code",
   "execution_count": null,
   "metadata": {},
   "outputs": [],
   "source": [
    "yourData.drop(columns=['feature1', '...'], axis=1, inplace=True)"
   ]
  },
  {
   "cell_type": "markdown",
   "metadata": {},
   "source": [
    "## Missing Value"
   ]
  },
  {
   "cell_type": "markdown",
   "metadata": {},
   "source": [
    "**Distribute the feature (numeric)**"
   ]
  },
  {
   "cell_type": "code",
   "execution_count": null,
   "metadata": {},
   "outputs": [],
   "source": [
    "plt.figure(figsize=(10, 5)) # You can adjust size of your plot here\n",
    "\n",
    "sns.kdeplot(x=yourData['featureNumeric']) # You can use histplot or boxplot too\n",
    "\n",
    "plt.tight_layout()\n",
    "plt.show()"
   ]
  },
  {
   "cell_type": "markdown",
   "metadata": {},
   "source": [
    "**Distribute the feature (categoric)**"
   ]
  },
  {
   "cell_type": "code",
   "execution_count": null,
   "metadata": {},
   "outputs": [],
   "source": [
    "plt.figure(figsize=(10, 5)) # You can adjust size of your plot here\n",
    "\n",
    "sns.countplot(x=yourData['featureNumeric'])\n",
    "\n",
    "plt.tight_layout()\n",
    "plt.show()"
   ]
  },
  {
   "cell_type": "markdown",
   "metadata": {},
   "source": [
    "**See aggregation**"
   ]
  },
  {
   "cell_type": "code",
   "execution_count": null,
   "metadata": {},
   "outputs": [],
   "source": [
    "yourData.groupby(['feature1', '...']).agg({'featureMissVal' : ['agg1', '...']}).reset_index()"
   ]
  },
  {
   "cell_type": "markdown",
   "metadata": {},
   "source": [
    "**Fill without segmentation**"
   ]
  },
  {
   "cell_type": "code",
   "execution_count": null,
   "metadata": {},
   "outputs": [],
   "source": [
    "yourData['featureMissVal'].fillna('usingWhat', inplace=True)"
   ]
  },
  {
   "cell_type": "markdown",
   "metadata": {},
   "source": [
    "**Fill with segmentation**"
   ]
  },
  {
   "cell_type": "code",
   "execution_count": null,
   "metadata": {},
   "outputs": [],
   "source": [
    "yourData = yourData.groupby(['feature1', '...'])['featureMissVal'].apply(lambda x: x.fillna(x.median())) # You can adjust to use median, mean, or anything you want"
   ]
  },
  {
   "cell_type": "markdown",
   "metadata": {},
   "source": [
    "## Duplicated Data"
   ]
  },
  {
   "cell_type": "code",
   "execution_count": null,
   "metadata": {},
   "outputs": [],
   "source": [
    "yourData.drop_duplicates(keep='first', inplace=True)"
   ]
  },
  {
   "cell_type": "markdown",
   "metadata": {},
   "source": [
    "## Outliers"
   ]
  },
  {
   "cell_type": "markdown",
   "metadata": {},
   "source": [
    "**Checking outliers**"
   ]
  },
  {
   "cell_type": "code",
   "execution_count": null,
   "metadata": {},
   "outputs": [],
   "source": [
    "plt.figure(figsize=(10, 5))\n",
    "\n",
    "for i in range(len(featureNumeric.columns)) :\n",
    "    plt.subplot(row, cols, i + 1) # You can adjust how many row and cols in your dataset\n",
    "    plt.title('{}'.format(featureNumeric.columns[i]))\n",
    "    sns.boxplot(x=yourData[featureNumeric.columns[i]])\n",
    "\n",
    "plt.tight_layout()\n",
    "plt.show()"
   ]
  },
  {
   "cell_type": "markdown",
   "metadata": {},
   "source": [
    "**Handle it with IQR**"
   ]
  },
  {
   "cell_type": "code",
   "execution_count": null,
   "metadata": {},
   "outputs": [],
   "source": [
    "outliers = ['feature1', '...']\n",
    "\n",
    "for i in outliers :\n",
    "    Q1 = yourData[i].quantile(0.25)\n",
    "    Q3 = yourData[i].quantile(0.75)\n",
    "    IQR = Q3 - Q1\n",
    "    low_limit = Q1 - (1.5 * IQR)\n",
    "    high_limit = Q3 + (1.5 * IQR)\n",
    "    yourData = yourData[(yourData[i] >= low_limit) & (yourData[i] <= high_limit)]\n",
    "\n",
    "yourData.head()"
   ]
  },
  {
   "cell_type": "markdown",
   "metadata": {},
   "source": [
    "## Skewness & Normalize"
   ]
  },
  {
   "cell_type": "markdown",
   "metadata": {},
   "source": [
    "**Checking skew**"
   ]
  },
  {
   "cell_type": "code",
   "execution_count": null,
   "metadata": {},
   "outputs": [],
   "source": [
    "plt.figure(figsize=(10, 5))\n",
    "\n",
    "for i in range(len(featureNumeric.columns)) :\n",
    "    plt.subplot(row, cols, i + 1) # You can adjust how many row and cols in your dataset\n",
    "    plt.title('{}'.format(featureNumeric.columns[i]))\n",
    "    sns.histplot(x=yourData[featureNumeric.columns[i]]) # You can use kdeplot too\n",
    "\n",
    "plt.tight_layout()\n",
    "plt.show()"
   ]
  },
  {
   "cell_type": "markdown",
   "metadata": {},
   "source": [
    "**Handle it**"
   ]
  },
  {
   "cell_type": "code",
   "execution_count": null,
   "metadata": {},
   "outputs": [],
   "source": [
    "from sklearn.preprocessing import MinMaxScaler\n",
    "\n",
    "# You can use anything to handle it based on your data (log, cbrt, sqrt, std, etc...)\n",
    "data_cube = ['feature1', '...']\n",
    "data_normalize = ['feature1', '...']\n",
    "\n",
    "for j in data_cube :\n",
    "    yourData[j] = np.cbrt(yourData[j])\n",
    "\n",
    "for x in data_normalize :\n",
    "    yourData[x] = MinMaxScaler().fit_transform(yourData[x].values.reshape(len(yourData), 1))\n",
    "\n",
    "yourData.head()"
   ]
  },
  {
   "cell_type": "markdown",
   "metadata": {},
   "source": [
    "## Encode"
   ]
  },
  {
   "cell_type": "code",
   "execution_count": null,
   "metadata": {},
   "outputs": [],
   "source": [
    "from sklearn.preprocessing import LabelEncoder\n",
    "\n",
    "dataLabel = ['feature1', '...']\n",
    "for i in dataLabel :\n",
    "    yourData[i] = LabelEncoder().fit_transform(yourData[i]) # You can use replace or map to manually value setup\n",
    "\n",
    "yourData = pd.get_dummies(data=yourData, columns=['feature1', '...'])\n",
    "\n",
    "yourData.head()"
   ]
  },
  {
   "cell_type": "markdown",
   "metadata": {},
   "source": [
    "## Balancing Data"
   ]
  },
  {
   "cell_type": "code",
   "execution_count": null,
   "metadata": {},
   "outputs": [],
   "source": [
    "from imblearn import over_sampling # You can choose for over or under sampling based on your data\n",
    "\n",
    "X = yourData[[i for i in yourData if i not in ['Label']]].values\n",
    "y = yourData['Label'].values\n",
    "\n",
    "X_over, y_over = over_sampling.RandomOverSampler(0.8).fit_resample(X, y)\n",
    "\n",
    "yourData = pd.DataFrame(X_over, columns=yourData.columns['synchronizeYourLabelIndexLocation'])\n",
    "yourData['Label'] = y_over\n",
    "\n",
    "yourData.head()"
   ]
  }
 ],
 "metadata": {
  "language_info": {
   "name": "python"
  },
  "orig_nbformat": 4
 },
 "nbformat": 4,
 "nbformat_minor": 2
}
